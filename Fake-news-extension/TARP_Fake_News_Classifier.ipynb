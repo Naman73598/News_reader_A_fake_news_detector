{
  "cells": [
    {
      "cell_type": "code",
      "execution_count": 1,
      "metadata": {
        "id": "52-ZjiVKBbj8"
      },
      "outputs": [],
      "source": [
        "import numpy as np\n",
        "import pandas as pd\n",
        "import re\n",
        "from nltk.corpus import stopwords\n",
        "from nltk.stem.porter import PorterStemmer\n",
        "from sklearn.feature_extraction.text import TfidfVectorizer\n",
        "from sklearn.model_selection import train_test_split\n",
        "from sklearn.linear_model import LogisticRegression\n",
        "from sklearn.metrics import accuracy_score\n",
        "from sklearn.metrics import ConfusionMatrixDisplay\n",
        "from sklearn.metrics import classification_report"
      ]
    },
    {
      "cell_type": "code",
      "execution_count": 2,
      "metadata": {
        "colab": {
          "base_uri": "https://localhost:8080/"
        },
        "id": "ywtMqE2jDLDN",
        "outputId": "418ba705-9ac0-4614-e202-2d9e9858ef4f"
      },
      "outputs": [
        {
          "name": "stderr",
          "output_type": "stream",
          "text": [
            "[nltk_data] Downloading package stopwords to\n",
            "[nltk_data]     C:\\Users\\Dell\\AppData\\Roaming\\nltk_data...\n",
            "[nltk_data]   Unzipping corpora\\stopwords.zip.\n",
            "[nltk_data] Downloading package punkt to\n",
            "[nltk_data]     C:\\Users\\Dell\\AppData\\Roaming\\nltk_data...\n",
            "[nltk_data]   Unzipping tokenizers\\punkt.zip.\n"
          ]
        },
        {
          "data": {
            "text/plain": [
              "True"
            ]
          },
          "execution_count": 2,
          "metadata": {},
          "output_type": "execute_result"
        }
      ],
      "source": [
        "import nltk\n",
        "nltk.download('stopwords')\n",
        "nltk.download('punkt')"
      ]
    },
    {
      "cell_type": "code",
      "execution_count": 3,
      "metadata": {
        "id": "iORQa6DRDggG"
      },
      "outputs": [],
      "source": [
        "news_dataset = pd.read_csv('./dataset/train.csv')"
      ]
    },
    {
      "cell_type": "code",
      "execution_count": 4,
      "metadata": {
        "colab": {
          "base_uri": "https://localhost:8080/"
        },
        "id": "Tj6axVwZDlWZ",
        "outputId": "55d56a7e-691c-41a3-e14c-a90cbce9cd6c"
      },
      "outputs": [
        {
          "data": {
            "text/plain": [
              "(20800, 5)"
            ]
          },
          "execution_count": 4,
          "metadata": {},
          "output_type": "execute_result"
        }
      ],
      "source": [
        "news_dataset.shape"
      ]
    },
    {
      "cell_type": "code",
      "execution_count": 5,
      "metadata": {
        "colab": {
          "base_uri": "https://localhost:8080/",
          "height": 206
        },
        "id": "tggtmNM7JEHc",
        "outputId": "8d7819bc-79c6-4bc1-9ccc-9cd66e794e87"
      },
      "outputs": [
        {
          "data": {
            "text/html": [
              "<div>\n",
              "<style scoped>\n",
              "    .dataframe tbody tr th:only-of-type {\n",
              "        vertical-align: middle;\n",
              "    }\n",
              "\n",
              "    .dataframe tbody tr th {\n",
              "        vertical-align: top;\n",
              "    }\n",
              "\n",
              "    .dataframe thead th {\n",
              "        text-align: right;\n",
              "    }\n",
              "</style>\n",
              "<table border=\"1\" class=\"dataframe\">\n",
              "  <thead>\n",
              "    <tr style=\"text-align: right;\">\n",
              "      <th></th>\n",
              "      <th>id</th>\n",
              "      <th>title</th>\n",
              "      <th>author</th>\n",
              "      <th>text</th>\n",
              "      <th>label</th>\n",
              "    </tr>\n",
              "  </thead>\n",
              "  <tbody>\n",
              "    <tr>\n",
              "      <th>0</th>\n",
              "      <td>0</td>\n",
              "      <td>House Dem Aide: We Didn’t Even See Comey’s Let...</td>\n",
              "      <td>Darrell Lucus</td>\n",
              "      <td>House Dem Aide: We Didn’t Even See Comey’s Let...</td>\n",
              "      <td>1</td>\n",
              "    </tr>\n",
              "    <tr>\n",
              "      <th>1</th>\n",
              "      <td>1</td>\n",
              "      <td>FLYNN: Hillary Clinton, Big Woman on Campus - ...</td>\n",
              "      <td>Daniel J. Flynn</td>\n",
              "      <td>Ever get the feeling your life circles the rou...</td>\n",
              "      <td>0</td>\n",
              "    </tr>\n",
              "    <tr>\n",
              "      <th>2</th>\n",
              "      <td>2</td>\n",
              "      <td>Why the Truth Might Get You Fired</td>\n",
              "      <td>Consortiumnews.com</td>\n",
              "      <td>Why the Truth Might Get You Fired October 29, ...</td>\n",
              "      <td>1</td>\n",
              "    </tr>\n",
              "    <tr>\n",
              "      <th>3</th>\n",
              "      <td>3</td>\n",
              "      <td>15 Civilians Killed In Single US Airstrike Hav...</td>\n",
              "      <td>Jessica Purkiss</td>\n",
              "      <td>Videos 15 Civilians Killed In Single US Airstr...</td>\n",
              "      <td>1</td>\n",
              "    </tr>\n",
              "    <tr>\n",
              "      <th>4</th>\n",
              "      <td>4</td>\n",
              "      <td>Iranian woman jailed for fictional unpublished...</td>\n",
              "      <td>Howard Portnoy</td>\n",
              "      <td>Print \\nAn Iranian woman has been sentenced to...</td>\n",
              "      <td>1</td>\n",
              "    </tr>\n",
              "  </tbody>\n",
              "</table>\n",
              "</div>"
            ],
            "text/plain": [
              "   id                                              title              author  \\\n",
              "0   0  House Dem Aide: We Didn’t Even See Comey’s Let...       Darrell Lucus   \n",
              "1   1  FLYNN: Hillary Clinton, Big Woman on Campus - ...     Daniel J. Flynn   \n",
              "2   2                  Why the Truth Might Get You Fired  Consortiumnews.com   \n",
              "3   3  15 Civilians Killed In Single US Airstrike Hav...     Jessica Purkiss   \n",
              "4   4  Iranian woman jailed for fictional unpublished...      Howard Portnoy   \n",
              "\n",
              "                                                text  label  \n",
              "0  House Dem Aide: We Didn’t Even See Comey’s Let...      1  \n",
              "1  Ever get the feeling your life circles the rou...      0  \n",
              "2  Why the Truth Might Get You Fired October 29, ...      1  \n",
              "3  Videos 15 Civilians Killed In Single US Airstr...      1  \n",
              "4  Print \\nAn Iranian woman has been sentenced to...      1  "
            ]
          },
          "execution_count": 5,
          "metadata": {},
          "output_type": "execute_result"
        }
      ],
      "source": [
        "news_dataset.head()"
      ]
    },
    {
      "cell_type": "code",
      "execution_count": 6,
      "metadata": {
        "colab": {
          "base_uri": "https://localhost:8080/"
        },
        "id": "bZYLZfChJIVz",
        "outputId": "abb69588-3594-4890-b017-df6214ab4c73"
      },
      "outputs": [
        {
          "data": {
            "text/plain": [
              "id           0\n",
              "title      558\n",
              "author    1957\n",
              "text        39\n",
              "label        0\n",
              "dtype: int64"
            ]
          },
          "execution_count": 6,
          "metadata": {},
          "output_type": "execute_result"
        }
      ],
      "source": [
        "news_dataset.isnull().sum()"
      ]
    },
    {
      "cell_type": "code",
      "execution_count": 7,
      "metadata": {
        "id": "42YWvT_kJMTu"
      },
      "outputs": [],
      "source": [
        "news_dataset = news_dataset.dropna(subset=['text'])\n",
        "news_dataset = news_dataset.fillna('')"
      ]
    },
    {
      "cell_type": "code",
      "execution_count": 8,
      "metadata": {
        "id": "NflcztqWJh6w"
      },
      "outputs": [],
      "source": [
        "news_dataset['content'] = news_dataset['author']+' '+news_dataset['title'] + ' ' + news_dataset['text']"
      ]
    },
    {
      "cell_type": "code",
      "execution_count": 13,
      "metadata": {
        "colab": {
          "base_uri": "https://localhost:8080/"
        },
        "id": "AVwdvJiFGt4s",
        "outputId": "ffa6f9a2-fec2-473e-c8a5-620bfb7e940c"
      },
      "outputs": [
        {
          "ename": "KeyboardInterrupt",
          "evalue": "",
          "output_type": "error",
          "traceback": [
            "\u001b[1;31m---------------------------------------------------------------------------\u001b[0m",
            "\u001b[1;31mKeyboardInterrupt\u001b[0m                         Traceback (most recent call last)",
            "\u001b[1;32md:\\projects\\fakeNewsExtension\\TARP_Fake_News_Classifier.ipynb Cell 9\u001b[0m in \u001b[0;36m<module>\u001b[1;34m\u001b[0m\n\u001b[0;32m      <a href='vscode-notebook-cell:/d%3A/projects/fakeNewsExtension/TARP_Fake_News_Classifier.ipynb#X13sZmlsZQ%3D%3D?line=0'>1</a>\u001b[0m total_words \u001b[39m=\u001b[39m \u001b[39m0\u001b[39m\n\u001b[0;32m      <a href='vscode-notebook-cell:/d%3A/projects/fakeNewsExtension/TARP_Fake_News_Classifier.ipynb#X13sZmlsZQ%3D%3D?line=1'>2</a>\u001b[0m \u001b[39mfor\u001b[39;00m news \u001b[39min\u001b[39;00m news_dataset[\u001b[39m'\u001b[39m\u001b[39mcontent\u001b[39m\u001b[39m'\u001b[39m]:\n\u001b[1;32m----> <a href='vscode-notebook-cell:/d%3A/projects/fakeNewsExtension/TARP_Fake_News_Classifier.ipynb#X13sZmlsZQ%3D%3D?line=2'>3</a>\u001b[0m   words\u001b[39m=\u001b[39m nltk\u001b[39m.\u001b[39;49mword_tokenize(news)\n\u001b[0;32m      <a href='vscode-notebook-cell:/d%3A/projects/fakeNewsExtension/TARP_Fake_News_Classifier.ipynb#X13sZmlsZQ%3D%3D?line=3'>4</a>\u001b[0m   total_words \u001b[39m=\u001b[39m total_words \u001b[39m+\u001b[39m \u001b[39mlen\u001b[39m(words)\n\u001b[0;32m      <a href='vscode-notebook-cell:/d%3A/projects/fakeNewsExtension/TARP_Fake_News_Classifier.ipynb#X13sZmlsZQ%3D%3D?line=4'>5</a>\u001b[0m \u001b[39mprint\u001b[39m(total_words)\n",
            "File \u001b[1;32md:\\Python\\Python39\\lib\\site-packages\\nltk\\tokenize\\__init__.py:130\u001b[0m, in \u001b[0;36mword_tokenize\u001b[1;34m(text, language, preserve_line)\u001b[0m\n\u001b[0;32m    115\u001b[0m \u001b[39m\"\"\"\u001b[39;00m\n\u001b[0;32m    116\u001b[0m \u001b[39mReturn a tokenized copy of *text*,\u001b[39;00m\n\u001b[0;32m    117\u001b[0m \u001b[39musing NLTK's recommended word tokenizer\u001b[39;00m\n\u001b[1;32m   (...)\u001b[0m\n\u001b[0;32m    127\u001b[0m \u001b[39m:type preserve_line: bool\u001b[39;00m\n\u001b[0;32m    128\u001b[0m \u001b[39m\"\"\"\u001b[39;00m\n\u001b[0;32m    129\u001b[0m sentences \u001b[39m=\u001b[39m [text] \u001b[39mif\u001b[39;00m preserve_line \u001b[39melse\u001b[39;00m sent_tokenize(text, language)\n\u001b[1;32m--> 130\u001b[0m \u001b[39mreturn\u001b[39;00m [\n\u001b[0;32m    131\u001b[0m     token \u001b[39mfor\u001b[39;00m sent \u001b[39min\u001b[39;00m sentences \u001b[39mfor\u001b[39;00m token \u001b[39min\u001b[39;00m _treebank_word_tokenizer\u001b[39m.\u001b[39mtokenize(sent)\n\u001b[0;32m    132\u001b[0m ]\n",
            "File \u001b[1;32md:\\Python\\Python39\\lib\\site-packages\\nltk\\tokenize\\__init__.py:131\u001b[0m, in \u001b[0;36m<listcomp>\u001b[1;34m(.0)\u001b[0m\n\u001b[0;32m    115\u001b[0m \u001b[39m\"\"\"\u001b[39;00m\n\u001b[0;32m    116\u001b[0m \u001b[39mReturn a tokenized copy of *text*,\u001b[39;00m\n\u001b[0;32m    117\u001b[0m \u001b[39musing NLTK's recommended word tokenizer\u001b[39;00m\n\u001b[1;32m   (...)\u001b[0m\n\u001b[0;32m    127\u001b[0m \u001b[39m:type preserve_line: bool\u001b[39;00m\n\u001b[0;32m    128\u001b[0m \u001b[39m\"\"\"\u001b[39;00m\n\u001b[0;32m    129\u001b[0m sentences \u001b[39m=\u001b[39m [text] \u001b[39mif\u001b[39;00m preserve_line \u001b[39melse\u001b[39;00m sent_tokenize(text, language)\n\u001b[0;32m    130\u001b[0m \u001b[39mreturn\u001b[39;00m [\n\u001b[1;32m--> 131\u001b[0m     token \u001b[39mfor\u001b[39;00m sent \u001b[39min\u001b[39;00m sentences \u001b[39mfor\u001b[39;00m token \u001b[39min\u001b[39;00m _treebank_word_tokenizer\u001b[39m.\u001b[39;49mtokenize(sent)\n\u001b[0;32m    132\u001b[0m ]\n",
            "File \u001b[1;32md:\\Python\\Python39\\lib\\site-packages\\nltk\\tokenize\\destructive.py:182\u001b[0m, in \u001b[0;36mNLTKWordTokenizer.tokenize\u001b[1;34m(self, text, convert_parentheses, return_str)\u001b[0m\n\u001b[0;32m    179\u001b[0m     text \u001b[39m=\u001b[39m regexp\u001b[39m.\u001b[39msub(substitution, text)\n\u001b[0;32m    181\u001b[0m \u001b[39mfor\u001b[39;00m regexp \u001b[39min\u001b[39;00m \u001b[39mself\u001b[39m\u001b[39m.\u001b[39mCONTRACTIONS2:\n\u001b[1;32m--> 182\u001b[0m     text \u001b[39m=\u001b[39m regexp\u001b[39m.\u001b[39msub(\u001b[39mr\u001b[39m\u001b[39m\"\u001b[39m\u001b[39m \u001b[39m\u001b[39m\\\u001b[39m\u001b[39m1 \u001b[39m\u001b[39m\\\u001b[39m\u001b[39m2 \u001b[39m\u001b[39m\"\u001b[39m, text)\n\u001b[0;32m    183\u001b[0m \u001b[39mfor\u001b[39;00m regexp \u001b[39min\u001b[39;00m \u001b[39mself\u001b[39m\u001b[39m.\u001b[39mCONTRACTIONS3:\n\u001b[0;32m    184\u001b[0m     text \u001b[39m=\u001b[39m regexp\u001b[39m.\u001b[39msub(\u001b[39mr\u001b[39m\u001b[39m\"\u001b[39m\u001b[39m \u001b[39m\u001b[39m\\\u001b[39m\u001b[39m1 \u001b[39m\u001b[39m\\\u001b[39m\u001b[39m2 \u001b[39m\u001b[39m\"\u001b[39m, text)\n",
            "\u001b[1;31mKeyboardInterrupt\u001b[0m: "
          ]
        }
      ],
      "source": [
        "total_words = 0\n",
        "for news in news_dataset['content']:\n",
        "  words= nltk.word_tokenize(news)\n",
        "  total_words = total_words + len(words)\n",
        "print(total_words)"
      ]
    },
    {
      "cell_type": "markdown",
      "metadata": {
        "id": "9o7ASMr5HNzI"
      },
      "source": [
        "332654 words without text took 39s\n",
        "\n",
        "18739547 words with text\n",
        "\n",
        "56.33 times\n",
        "\n",
        "if linear time complexity, it would take 2253.33s = 37.55 minutes\n"
      ]
    },
    {
      "cell_type": "code",
      "execution_count": null,
      "metadata": {
        "colab": {
          "base_uri": "https://localhost:8080/"
        },
        "id": "78KLOGiFJk3G",
        "outputId": "8ee1b007-71bb-41f5-9fd7-fbfefe975317"
      },
      "outputs": [
        {
          "name": "stdout",
          "output_type": "stream",
          "text": [
            "0        Darrell Lucus House Dem Aide: We Didn’t Even S...\n",
            "1        Daniel J. Flynn FLYNN: Hillary Clinton, Big Wo...\n",
            "2        Consortiumnews.com Why the Truth Might Get You...\n",
            "3        Jessica Purkiss 15 Civilians Killed In Single ...\n",
            "4        Howard Portnoy Iranian woman jailed for fictio...\n",
            "                               ...                        \n",
            "20795    Jerome Hudson Rapper T.I.: Trump a ’Poster Chi...\n",
            "20796    Benjamin Hoffman N.F.L. Playoffs: Schedule, Ma...\n",
            "20797    Michael J. de la Merced and Rachel Abrams Macy...\n",
            "20798    Alex Ansary NATO, Russia To Hold Parallel Exer...\n",
            "20799    David Swanson What Keeps the F-35 Alive   Davi...\n",
            "Name: content, Length: 20761, dtype: object\n"
          ]
        }
      ],
      "source": [
        "print(news_dataset['content'])"
      ]
    },
    {
      "cell_type": "code",
      "execution_count": 14,
      "metadata": {
        "id": "_sOTwm8VJm47"
      },
      "outputs": [],
      "source": [
        "X = news_dataset.drop(columns='label', axis=1)\n",
        "Y = news_dataset['label']"
      ]
    },
    {
      "cell_type": "code",
      "execution_count": 15,
      "metadata": {
        "id": "9cLOLmBkJqfh"
      },
      "outputs": [],
      "source": [
        "port_stem = PorterStemmer()"
      ]
    },
    {
      "cell_type": "code",
      "execution_count": 16,
      "metadata": {
        "id": "Bj5CyhPkJtY5"
      },
      "outputs": [],
      "source": [
        "def stemming(content):\n",
        "    stemmed_content = re.sub('[^a-zA-Z]',' ',content)\n",
        "    stemmed_content = stemmed_content.lower()\n",
        "    stemmed_content = stemmed_content.split()\n",
        "    stemmed_content = [port_stem.stem(word) for word in stemmed_content if not word in stopwords.words('english')]\n",
        "    stemmed_content = ' '.join(stemmed_content)\n",
        "    return stemmed_content"
      ]
    },
    {
      "cell_type": "code",
      "execution_count": 17,
      "metadata": {
        "id": "xj7iGYSWJvu7"
      },
      "outputs": [],
      "source": [
        "news_dataset['content'] = news_dataset['content'].apply(stemming)"
      ]
    },
    {
      "cell_type": "code",
      "execution_count": null,
      "metadata": {
        "colab": {
          "base_uri": "https://localhost:8080/"
        },
        "id": "mBkLyMLQJxQ9",
        "outputId": "d536c208-5776-4f57-ff5e-fe3db35e462e"
      },
      "outputs": [
        {
          "name": "stdout",
          "output_type": "stream",
          "text": [
            "0        darrel lucu hous dem aid even see comey letter...\n",
            "1        daniel j flynn flynn hillari clinton big woman...\n",
            "2        consortiumnew com truth might get fire truth m...\n",
            "3        jessica purkiss civilian kill singl us airstri...\n",
            "4        howard portnoy iranian woman jail fiction unpu...\n",
            "                               ...                        \n",
            "20795    jerom hudson rapper trump poster child white s...\n",
            "20796    benjamin hoffman n f l playoff schedul matchup...\n",
            "20797    michael j de la merc rachel abram maci said re...\n",
            "20798    alex ansari nato russia hold parallel exercis ...\n",
            "20799    david swanson keep f aliv david swanson author...\n",
            "Name: content, Length: 20761, dtype: object\n"
          ]
        }
      ],
      "source": [
        "print(news_dataset['content'])"
      ]
    },
    {
      "cell_type": "code",
      "execution_count": null,
      "metadata": {
        "id": "C7mAXGe4JzN6"
      },
      "outputs": [],
      "source": [
        "X = news_dataset['content'].values\n",
        "Y = news_dataset['label'].values"
      ]
    },
    {
      "cell_type": "code",
      "execution_count": null,
      "metadata": {
        "colab": {
          "base_uri": "https://localhost:8080/"
        },
        "id": "l9dZ38XKJ01b",
        "outputId": "4dcb7ace-5bae-4bd3-a016-df7f33401bcc"
      },
      "outputs": [
        {
          "name": "stdout",
          "output_type": "stream",
          "text": [
            "['darrel lucu hous dem aid even see comey letter jason chaffetz tweet hous dem aid even see comey letter jason chaffetz tweet darrel lucu octob subscrib jason chaffetz stump american fork utah imag courtesi michael jolley avail creativ common licens apolog keith olbermann doubt worst person world week fbi director jame comey accord hous democrat aid look like also know second worst person well turn comey sent infam letter announc fbi look email may relat hillari clinton email server rank democrat relev committe hear comey found via tweet one republican committe chairmen know comey notifi republican chairmen democrat rank member hous intellig judiciari oversight committe agenc review email recent discov order see contain classifi inform long letter went oversight committe chairman jason chaffetz set polit world ablaz tweet fbi dir inform fbi learn exist email appear pertin investig case reopen jason chaffetz jasoninthehous octob cours know case comey actual say review email light unrel case know anthoni weiner sext teenag appar littl thing fact matter chaffetz utah republican alreadi vow initi raft investig hillari win least two year worth possibl entir term worth appar chaffetz thought fbi alreadi work result tweet briefli roil nation cooler head realiz dud accord senior hous democrat aid misread letter may least chaffetz sin aid told shareblu boss democrat even know comey letter time found check twitter democrat rank member relev committe receiv comey letter republican chairmen fact democrat rank member receiv chairman oversight govern reform committe jason chaffetz tweet made public let see got right fbi director tell chaffetz gop committe chairmen major develop potenti polit explos investig neither chaffetz colleagu courtesi let democrat counterpart know instead accord aid made find twitter alreadi talk daili ko comey provid advanc notic letter chaffetz republican give time turn spin machin may make good theater noth far even suggest case noth far suggest comey anyth grossli incompet tone deaf suggest howev chaffetz act way make dan burton darrel issa look like model respons bipartisanship even decenc notifi rank member elijah cum someth explos trampl basic standard fair know grant like chaffetz answer sit ridicul republican district anchor provo orem cook partisan vote index r gave mitt romney punish percent vote moreov republican hous leadership given full support chaffetz plan fish expedit mean turn hot light textbook exampl hous becom republican control also second worst person world darrel lucu darrel someth graduat univers north carolina consid journalist old school attempt turn member religi right colleg succeed turn religi right worst nightmar charismat christian unapologet liber desir stand scare silenc increas surviv abus three year marriag may know daili ko christian dem nc follow twitter darrelllucu connect facebook click buy darrel mello yello connect'\n",
            " 'daniel j flynn flynn hillari clinton big woman campu breitbart ever get feel life circl roundabout rather head straight line toward intend destin hillari clinton remain big woman campu leafi liber wellesley massachusett everywher els vote like inaugur dress remaind day way miss havisham forev wore wed dress speak great expect hillari rodham overflow year ago first address wellesley graduat class presid colleg inform gather student need debat far could ascertain spokesman kind like democrat primari minu term unknown even seven sister school glad miss adam made clear speak today us us miss rodham told classmat appoint edger bergen charli mccarthi mortim snerd attend bespectacl granni glass award matronli wisdom least john lennon wisdom took issu previou speaker despit becom first win elect seat u senat sinc reconstruct edward brook came critic call empathi goal protestor critic tactic though clinton senior thesi saul alinski lament black power demagogu elitist arrog repress intoler within new left similar word come republican necessit brief rebutt trust rodham iron observ one word ask class rehears want say everyon came said talk trust talk lack trust us way feel other talk trust bust say say feel permeat gener perhap even understood distrust trust bust certainli bust clinton plan certainli even understand peopl distrust whitewat travelg vast conspiraci benghazi miss email clinton found distrust voic friday load compromis road broaden polit horizon distrust american peopl trump edg percent percent question immedi prior novemb elect stood major reason close horizon clinton describ vanquish support embrac lie con altern fact assault truth reason fail explain american peopl chose lie truth histori major among today know well peopl power invent fact attack question mark begin end free societi offer hyperbol like mani peopl emerg hillari clinton embark upon long strang trip high school goldwat girl wellesley colleg republican presid democrat politician clinton drank time place gave degre significantli went idealist cynic comparison two wellesley commenc address show way back lament long leader view polit art possibl challeng practic polit art make appear imposs possibl big woman campu odd woman white hous wonder current station even possibl point ahead ask septemb may ask presid woman famous dub congenit liar bill safir conclud lie mind get stood elect day like find jilt bride wed day inspir danger delus'\n",
            " 'consortiumnew com truth might get fire truth might get fire octob tension intellig analyst polit policymak alway honest assess desir result latter often overwhelm former iraq war write lawrenc davidson lawrenc davidson might wonder foreign polici maker repeatedli make bad choic insight might drawn follow analysi action play unit state lesson probabl univers back earli spring georg w bush initi invas iraq one key public reason claim countri dictat saddam hussein verg develop nuclear weapon hide weapon mass destruct real reason went beyond charg includ long rang plan regim chang middl east presid georg w bush vice presid dick cheney receiv oval offic brief cia director georg tenet also present chief staff andi card right white hous photo purpos concentr belief iraq becom hostil nuclear power presid bush close associ accept scenario readili short answer bush want inde need believ rational invad iraq first tri connect saddam hussein attack u though never gave stratagem lack evid made difficult ralli american peopl alreadi fixat afghanistan support war baghdad nuclear weapon gambit prove fruit hard evid charg supposedli reliabl wit person exil anti saddam iraqi mani u govern payrol kept tell bush advis nuclear stori true u leadership cadr whose worldview liter demand mortal danger iraq inform order precipit overthrow saddam will tell tale pend atom weapon strong desir believ tale nuclear iraq lower threshold proof likewis repeat assert assum depend iraqi sourc underpin nationwid u campaign gener fear war fever u alli insist unit nation send weapon inspector scour iraq evid nuclear weapon program well chemic biolog weapon inspector could find convinc evid frustrat bush administr soon forc hand march bush launch invas iraq expect occup countri u inspector would sure find evid nuke least stockpil chemic biolog weapon iraqi inform systemat lie social behavior scienc rescu variou u intellig agenc thoroughli shaken affair today year later director manag still tri sort specif tell get true intellig lie one intellig worker put need help protect us armi snake oil salesmen end cia et al market academ assist ahm chalabi head iraqi nation congress key supplier iraqi defector bogu stori hidden wmd partnership forg offic director nation intellig odni serv coordin center sixteen independ u intellig agenc nation academi scienc engin medicin result collabor perman intellig commun studi board coordin program social behavior scienc research might strengthen nation secur despit effort almost certain social behavior scienc cannot give spi agenc want way detect lie better present standard procedur polygraph test interrog even could might well make differ real problem found liar found believ believ simpli true odni leader seem assert u intellig agenc personnel cannot tell often lie case thousand middl echelon intellig worker desk offic specialist know someth close approach truth know pretti well go place like afghanistan iraq syria libya israel palestin elsewher director nation intellig jame clapper right talk presid barack obama oval offic john brennan nation secur aid present photo credit offic director nation intellig therefor someon feed snake oil usual know howev accur grasp thing often avail superior got appoint accept pre structur worldview differ criterion true analyst listen charl gaukel nation intellig council yet anoth organ act meet ground intellig agenc refer search way avoid get taken lie gaukel declar look truth particularli look truth work might mean certainli tell mean histor mean power broker truth must match fit worldview polit ideolog precept fit work intellig specialist send usual accur assess line polici maker often hit roadblock caus group think ideolog blinker know better attitud hand long sell leadership match want believ peddl anyth imaginari iraqi nuke israel western style democraci saudi arabia indispens alli libya liber countri bashar al assad real roadblock peac syria strateg defens initi sdi aka star war world get colder warmer american exception glori list almost endless sad tale tell us want spend million dollar social behavior scienc research improv assess use intellig forget liar want look antidot narrow minded believ policymak seem abl rise ideolog presumpt class presumpt underpin self confid lead us slipperi slope happen way often mani place sourc shakespear determin past prelud elit play destini free capac break structur way see yet middl echelon specialist keep send rel accur assess ladder power hope spring etern'\n",
            " ...\n",
            " 'michael j de la merc rachel abram maci said receiv takeov approach hudson bay new york time maci today grew union sever great name american retail includ namesak chain bloomingdal marshal field ambiti owner sak fifth avenu broach idea take union even combin maci creat depart store juggernaut time industri reel hudson bay compani canadian owner sak approach maci potenti takeov peopl brief matter author speak publicli said friday talk two compani earli stage may still fall apart lead partnership kind rather sale unclear whether deal happen combin could lift fortun maci countri biggest depart store struggl investor certainli appear see way share maci rose much percent friday biggest intraday gain sinc aug accord data bloomberg retail titan maci struggl remain relev discount retail decim tradit busi last month maci announc plan cut job close store terri lundgren chief execut architect maci last big merger expect step end march succeed compani presid jeffrey gennett sinc recess shopper grown accustom hunt bargain pay full price discount store outlet mall flourish tradit store compel respond trim price cut margin depart store hit especi hard particularli shopper migrat away mall emerg analyst say virtual race bottom particularli difficult maci born seri merger past two decad made juggernaut industri stalwart middl tier retail compani neither advantag retail like hm store addit maci face increasingli fierc competit onlin site like amazon elsewher maci troubl drawn attent promin activist hedg fund starboard valu urg compani gener cash sell real estat beneath store starboard held percent maci share sept previous estim valu land billion friday analyst citigroup estim maci hold could worth least billion maci market valu comparison billion friday morn maci taken step sell redevelop store last year ad expert real estat transact board compani larg resist ambiti effort divest real estat includ deal compani sell underli land beneath store rent back compani suitor hudson bay compani far smaller market valu billion canadian dollar billion known bold step hudson bay compani assembl grow empir includ hudson bay depart store chain lord taylor crown jewel sak governor execut chairman hudson bay compani richard baker shown littl fear use debt novemb compani borrow nearli billion sak flagship midtown manhattan spoken often retail need highlight valu real estat financ bid maci may trickier howev carri billion debt may mean hudson bay compani bring partner borrow real estat hold spokesman hudson bay compani declin comment talk report earlier wall street journal comment rumor specul repres maci said repres starboard valu respond request comment analyst said saw merit potenti combin particularli given maci oper woe mr baker expertis wring money real estat clear logic despit dispar cap maci hudson bay compani craig johnson presid custom growth partner research firm said note refer maci stock ticker symbol ad retail market chang faster abl keep whether flight mall migrat onlin'\n",
            " 'alex ansari nato russia hold parallel exercis balkan nato russia hold parallel exercis balkan press tv russia militari nato forc hold parallel militari exercis two neighbor balkan countri russian troop particip war game serbia nato conduct militari drill montenegro media report monday russian forc day militari exercis serbia name slavic brotherhood begin wednesday includ russian paratroop air forc staffer three transport plane unspecifi number troop serbia belaru russia defens ministri said five day nato drill montenegro start monday involv respond flood chemic attack involv unarm personnel seven nato countri partner state past serbia montenegro constitut republ socialist feder republ yugoslavia countri socialist republ tradit russian christian orthodox alli state union form serbia montenegro two becam independ state sinc split two balkan neighbor seem head differ direct strateg montenegro taken pro western stanc award nato offer join northern atlant allianc nato invit montenegro met strong opposit russia meanwhil montenegrin offici accus russia stage alleg coup octob toppl pro western govern nato access bid serbia nato partner held exercis western allianc larg one foreign troop equip particip soil'\n",
            " 'david swanson keep f aliv david swanson author activist journalist radio host nobel peac prize nomine director worldbeyondwar com campaign coordin rootsact org host talk nation radio talk nation radio vt radio syndic pacifica network show also air wtju charlottesvil va wcsx detroit mi kghi westport wa whu storr ct wprr grand rapid mi krfp lp moscow id kzgm cabool mo kmud garbervil ca wazu peoria il wxrd crown point geneva radio geneva ny kkrn round mountain ca kskq lp ashland wuow lp oneonta ny lie radio pinol ca wyap lp clay wv detour johnson citi tn wzrd chicago il weft champaign il wxpi pittsburgh pa wdrt viroqua wi verac onlin liberti justic radio shirley ithaca commun radio ithaca ny wmcb greenfield prx org kao fm olympia wa wusb fm stoni brook ny wool fm bellow fall vermont wslr lp sarasota florida also blog davidswanson org warisacrim org prolif author latest book war lie daybreak undo imperi presid form perfect union world outlaw war swanson hold master degre philosophi univers virginia work newspap report commun director job includ press secretari denni kucinich presidenti campaign media coordin intern labor commun associ three year commun coordin acorn associ commun organ reform read full complet biographi davidswanson org also visit book site war crime keep f aliv david swanson octob petit stop f go global david swanson imagin local busi town invent brand new tool intend almost magic effect thousand mile away howev tool kept use local becam area unsaf children children got near tool tend increas blood pressur increas stress hormon lower read skill poorer memori impair auditori speech percept impair academ perform us would find situat least littl concern unless new invent design murder lot peopl fine imagin new tool ruin neighborhood peopl safe live near imagin govern compens peopl kick live near locat tool think might find troubl mass murder mission imagin also tool fairli frequent explod emit highli toxic chemic particl fiber unsaf breath air mile around normal problem tool need kill lot peopl work flaw new gadget expect cost least year money taken away numer expens benefici economi world trillion drain economi caus loss job radic diminuit resourc educ healthcar hous environment protect humanitarian aid worri case mean case abil kill ton human be stake product even work perfectli lead destroy earth natur environ high tech toy even design expect even abl design amazingli even shortcom matter long intent massiv murder destruct forgiven tool describ call f rootsact org find new petit launch local mind peopl act global place f intend base also link find explan tool decrib f petit direct unit state congress govern australia itali netherland norway turkey unit kingdom israel japan south korea world peopl burlington vermont fairbank alaska f base effort initi vermont stop f coalit save sky vermont western main matter alaska peac center univers alaska fairbank peac club north star chapter veteran peac world beyond war rootsact org code pink ben cohen petit read f weapon offens war serv defens purpos plan cost u trillion year starvat earth could end billion lack clean drink water billion per year first foremost wast resourc airplan kill militari spend contrari popular misconcept also hurt u economi see economi f caus neg health impact cognit impair children live near base render hous near airport unsuit residenti use high crash rate horribl consequ live area crash emiss major environment pollut war endang unit state particip nation rather protect nonviol tool law diplomaci aid crisi prevent verifi nuclear disarma substitut continu counterproduct war therefor undersign call immedi cancel f program whole immedi cancel plan base danger noisi jet near popul area oppos replac f weapon base f locat demand redirect money f back taxpay pocket environment human need u f custom nation around world includ fight climat chang pay student debt rebuild crumbl infrastructur improv educ healthcar hous add name david swanson author activist journalist radio host director worldbeyondwar org campaign coordin rootsact org swanson book includ war lie blog davidswanson org warisacrim org host talk nation radio nobel peac prize nomine follow twitter davidcnswanson facebook help support davidswanson org warisacrim org talknationradio org click http davidswanson org donat']\n"
          ]
        }
      ],
      "source": [
        "print(X)"
      ]
    },
    {
      "cell_type": "code",
      "execution_count": null,
      "metadata": {
        "colab": {
          "base_uri": "https://localhost:8080/"
        },
        "id": "Pdvv71xUJ4Km",
        "outputId": "c2dd8e82-acf7-4bba-b1a9-bed3d8bd92c4"
      },
      "outputs": [
        {
          "data": {
            "text/plain": [
              "(20761,)"
            ]
          },
          "execution_count": 63,
          "metadata": {},
          "output_type": "execute_result"
        }
      ],
      "source": [
        "Y.shape"
      ]
    },
    {
      "cell_type": "code",
      "execution_count": null,
      "metadata": {
        "id": "AJoDtqX9J5nd"
      },
      "outputs": [],
      "source": [
        "vectorizer = TfidfVectorizer()\n",
        "vectorizer.fit(X)\n",
        "X = vectorizer.fit_transform(X)"
      ]
    },
    {
      "cell_type": "code",
      "execution_count": null,
      "metadata": {
        "colab": {
          "base_uri": "https://localhost:8080/"
        },
        "id": "R-E3Z2CrJ7fF",
        "outputId": "ef7ffbf5-469d-4700-b534-ae8b33052cba"
      },
      "outputs": [
        {
          "name": "stdout",
          "output_type": "stream",
          "text": [
            "  (0, 109709)\t0.04916651639419508\n",
            "  (0, 109654)\t0.0190500930646299\n",
            "  (0, 108699)\t0.044160677041691444\n",
            "  (0, 108695)\t0.09476793161968479\n",
            "  (0, 108652)\t0.037566527939016235\n",
            "  (0, 108615)\t0.011299552224499044\n",
            "  (0, 107964)\t0.017088213540562627\n",
            "  (0, 107147)\t0.017101608766394646\n",
            "  (0, 107056)\t0.012537122382585187\n",
            "  (0, 106970)\t0.029126788979233546\n",
            "  (0, 106891)\t0.012857332989318316\n",
            "  (0, 106691)\t0.011765302846626823\n",
            "  (0, 105842)\t0.025726240772580792\n",
            "  (0, 105806)\t0.03128690578523631\n",
            "  (0, 104796)\t0.021533899899692427\n",
            "  (0, 103381)\t0.0654491099495065\n",
            "  (0, 102695)\t0.033151133173839296\n",
            "  (0, 102444)\t0.01639152275149079\n",
            "  (0, 101676)\t0.03807579437920063\n",
            "  (0, 101036)\t0.011075720440438485\n",
            "  (0, 101026)\t0.04319193648243406\n",
            "  (0, 100973)\t0.13600836947921974\n",
            "  (0, 100825)\t0.07128203423915312\n",
            "  (0, 99536)\t0.0394542973241227\n",
            "  (0, 98968)\t0.027119946472978686\n",
            "  :\t:\n",
            "  (20760, 7467)\t0.010628533694759731\n",
            "  (20760, 7140)\t0.02815504242188914\n",
            "  (20760, 6845)\t0.03957302315880808\n",
            "  (20760, 6807)\t0.025362519735164832\n",
            "  (20760, 6527)\t0.04239940411150359\n",
            "  (20760, 6081)\t0.031534605499220096\n",
            "  (20760, 5869)\t0.04632445614513251\n",
            "  (20760, 5514)\t0.024084091662178553\n",
            "  (20760, 5239)\t0.045400491799946006\n",
            "  (20760, 3269)\t0.034466049966915026\n",
            "  (20760, 3040)\t0.05003019202128882\n",
            "  (20760, 2953)\t0.015317728881068061\n",
            "  (20760, 2712)\t0.047793341550774006\n",
            "  (20760, 2293)\t0.08924134712855585\n",
            "  (20760, 1996)\t0.023150254697461972\n",
            "  (20760, 1994)\t0.02937808447408685\n",
            "  (20760, 1951)\t0.03329931784994023\n",
            "  (20760, 1885)\t0.033758226276487564\n",
            "  (20760, 1026)\t0.01893231828966693\n",
            "  (20760, 902)\t0.03823895929484301\n",
            "  (20760, 872)\t0.013801438090798175\n",
            "  (20760, 814)\t0.041754808872783905\n",
            "  (20760, 559)\t0.024507985139954395\n",
            "  (20760, 323)\t0.015360780670897148\n",
            "  (20760, 305)\t0.01902688383470762\n"
          ]
        }
      ],
      "source": [
        "print(X)"
      ]
    },
    {
      "cell_type": "code",
      "execution_count": null,
      "metadata": {
        "id": "6vMRtAUKJ-qR"
      },
      "outputs": [],
      "source": [
        "X_train, X_test, Y_train, Y_test = train_test_split(X, Y, test_size = 0.2, stratify=Y, random_state=2)"
      ]
    },
    {
      "cell_type": "code",
      "execution_count": null,
      "metadata": {
        "id": "RdouxwrNKFWS"
      },
      "outputs": [],
      "source": [
        "model = LogisticRegression()"
      ]
    },
    {
      "cell_type": "code",
      "execution_count": null,
      "metadata": {
        "colab": {
          "base_uri": "https://localhost:8080/"
        },
        "id": "zzOlmx3wKGfZ",
        "outputId": "c7e0b921-3af2-481f-ba48-7e42fc2950db"
      },
      "outputs": [
        {
          "data": {
            "text/plain": [
              "LogisticRegression()"
            ]
          },
          "execution_count": 68,
          "metadata": {},
          "output_type": "execute_result"
        }
      ],
      "source": [
        "model.fit(X_train, Y_train)"
      ]
    },
    {
      "cell_type": "code",
      "execution_count": null,
      "metadata": {
        "id": "C7VJs7e4KHuQ"
      },
      "outputs": [],
      "source": [
        "X_train_prediction = model.predict(X_train)\n",
        "training_data_accuracy = accuracy_score(X_train_prediction, Y_train)"
      ]
    },
    {
      "cell_type": "code",
      "execution_count": null,
      "metadata": {
        "colab": {
          "base_uri": "https://localhost:8080/"
        },
        "id": "9TZdaPFBKJfe",
        "outputId": "256662d9-f7e3-4ebf-b0af-affa1dc3b3fa"
      },
      "outputs": [
        {
          "name": "stdout",
          "output_type": "stream",
          "text": [
            "Accuracy score of the training data :  0.978143063583815\n"
          ]
        }
      ],
      "source": [
        "print('Accuracy score of the training data : ', training_data_accuracy)"
      ]
    },
    {
      "cell_type": "code",
      "execution_count": null,
      "metadata": {
        "colab": {
          "base_uri": "https://localhost:8080/"
        },
        "id": "WLBhTCi_KLIA",
        "outputId": "fca7e447-f242-4b77-acfe-840b1ea91a4d"
      },
      "outputs": [
        {
          "name": "stdout",
          "output_type": "stream",
          "text": [
            "Accuracy score of the test data :  0.9573802070792199\n"
          ]
        }
      ],
      "source": [
        "X_test_prediction = model.predict(X_test)\n",
        "test_data_accuracy = accuracy_score(X_test_prediction, Y_test)\n",
        "print('Accuracy score of the test data : ', test_data_accuracy)"
      ]
    },
    {
      "cell_type": "code",
      "execution_count": 10,
      "metadata": {
        "colab": {
          "base_uri": "https://localhost:8080/"
        },
        "id": "xb2-m0UWKNnh",
        "outputId": "67ddd3ea-7950-4e3f-d2ae-7a992db70bcb"
      },
      "outputs": [
        {
          "ename": "NameError",
          "evalue": "name 'X_test' is not defined",
          "output_type": "error",
          "traceback": [
            "\u001b[1;31m---------------------------------------------------------------------------\u001b[0m",
            "\u001b[1;31mNameError\u001b[0m                                 Traceback (most recent call last)",
            "\u001b[1;32md:\\projects\\fakeNewsExtension\\TARP_Fake_News_Classifier.ipynb Cell 29\u001b[0m in \u001b[0;36m<module>\u001b[1;34m\u001b[0m\n\u001b[1;32m----> <a href='vscode-notebook-cell:/d%3A/projects/fakeNewsExtension/TARP_Fake_News_Classifier.ipynb#X42sZmlsZQ%3D%3D?line=0'>1</a>\u001b[0m X_new \u001b[39m=\u001b[39m X_test[\u001b[39m0\u001b[39m]\n\u001b[0;32m      <a href='vscode-notebook-cell:/d%3A/projects/fakeNewsExtension/TARP_Fake_News_Classifier.ipynb#X42sZmlsZQ%3D%3D?line=1'>2</a>\u001b[0m prediction \u001b[39m=\u001b[39m model\u001b[39m.\u001b[39mpredict(X_new)\n\u001b[0;32m      <a href='vscode-notebook-cell:/d%3A/projects/fakeNewsExtension/TARP_Fake_News_Classifier.ipynb#X42sZmlsZQ%3D%3D?line=2'>3</a>\u001b[0m \u001b[39mprint\u001b[39m(prediction)\n",
            "\u001b[1;31mNameError\u001b[0m: name 'X_test' is not defined"
          ]
        }
      ],
      "source": [
        "X_new = X_test[0]\n",
        "prediction = model.predict(X_new)\n",
        "print(prediction)\n",
        "\n",
        "if (prediction[0]==0):\n",
        "  print('The news is Real')\n",
        "else:\n",
        "  print('The news is Fake')"
      ]
    },
    {
      "cell_type": "code",
      "execution_count": 12,
      "metadata": {},
      "outputs": [
        {
          "ename": "NameError",
          "evalue": "name 'classification_report' is not defined",
          "output_type": "error",
          "traceback": [
            "\u001b[1;31m---------------------------------------------------------------------------\u001b[0m",
            "\u001b[1;31mNameError\u001b[0m                                 Traceback (most recent call last)",
            "\u001b[1;32md:\\projects\\fakeNewsExtension\\TARP_Fake_News_Classifier.ipynb Cell 30\u001b[0m in \u001b[0;36m<module>\u001b[1;34m\u001b[0m\n\u001b[1;32m----> <a href='vscode-notebook-cell:/d%3A/projects/fakeNewsExtension/TARP_Fake_News_Classifier.ipynb#X46sZmlsZQ%3D%3D?line=0'>1</a>\u001b[0m \u001b[39mprint\u001b[39m(classification_report(Y_test, prediction))\n",
            "\u001b[1;31mNameError\u001b[0m: name 'classification_report' is not defined"
          ]
        }
      ],
      "source": [
        "print(classification_report(Y_test, prediction))"
      ]
    },
    {
      "cell_type": "code",
      "execution_count": 11,
      "metadata": {
        "colab": {
          "base_uri": "https://localhost:8080/",
          "height": 296
        },
        "id": "BGdrB9EgKQET",
        "outputId": "0184b6c3-041f-4b2f-89e0-59189ca2d81e"
      },
      "outputs": [
        {
          "ename": "NameError",
          "evalue": "name 'Y_test' is not defined",
          "output_type": "error",
          "traceback": [
            "\u001b[1;31m---------------------------------------------------------------------------\u001b[0m",
            "\u001b[1;31mNameError\u001b[0m                                 Traceback (most recent call last)",
            "\u001b[1;32md:\\projects\\fakeNewsExtension\\TARP_Fake_News_Classifier.ipynb Cell 30\u001b[0m in \u001b[0;36m<module>\u001b[1;34m\u001b[0m\n\u001b[1;32m----> <a href='vscode-notebook-cell:/d%3A/projects/fakeNewsExtension/TARP_Fake_News_Classifier.ipynb#X43sZmlsZQ%3D%3D?line=0'>1</a>\u001b[0m ConfusionMatrixDisplay\u001b[39m.\u001b[39mfrom_predictions(Y_test, X_test_prediction)\n",
            "\u001b[1;31mNameError\u001b[0m: name 'Y_test' is not defined"
          ]
        }
      ],
      "source": [
        "ConfusionMatrixDisplay.from_predictions(Y_test, X_test_prediction)"
      ]
    },
    {
      "cell_type": "code",
      "execution_count": null,
      "metadata": {
        "id": "a2c3neM6GMau"
      },
      "outputs": [],
      "source": []
    }
  ],
  "metadata": {
    "colab": {
      "provenance": []
    },
    "kernelspec": {
      "display_name": "Python 3",
      "name": "python3"
    },
    "language_info": {
      "codemirror_mode": {
        "name": "ipython",
        "version": 3
      },
      "file_extension": ".py",
      "mimetype": "text/x-python",
      "name": "python",
      "nbconvert_exporter": "python",
      "pygments_lexer": "ipython3",
      "version": "3.9.0"
    }
  },
  "nbformat": 4,
  "nbformat_minor": 0
}
